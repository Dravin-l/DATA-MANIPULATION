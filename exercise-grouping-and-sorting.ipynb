{
 "cells": [
  {
   "cell_type": "markdown",
   "id": "87596e7b",
   "metadata": {
    "papermill": {
     "duration": 0.005955,
     "end_time": "2023-07-13T10:22:53.660804",
     "exception": false,
     "start_time": "2023-07-13T10:22:53.654849",
     "status": "completed"
    },
    "tags": []
   },
   "source": [
    "**This notebook is an exercise in the [Pandas](https://www.kaggle.com/learn/pandas) course.  You can reference the tutorial at [this link](https://www.kaggle.com/residentmario/grouping-and-sorting).**\n",
    "\n",
    "---\n"
   ]
  },
  {
   "cell_type": "markdown",
   "id": "af8edbb1",
   "metadata": {
    "papermill": {
     "duration": 0.005177,
     "end_time": "2023-07-13T10:22:53.671574",
     "exception": false,
     "start_time": "2023-07-13T10:22:53.666397",
     "status": "completed"
    },
    "tags": []
   },
   "source": [
    "# Introduction\n",
    "\n",
    "In these exercises we'll apply groupwise analysis to our dataset.\n",
    "\n",
    "Run the code cell below to load the data before running the exercises."
   ]
  },
  {
   "cell_type": "code",
   "execution_count": 1,
   "id": "ec52e43f",
   "metadata": {
    "execution": {
     "iopub.execute_input": "2023-07-13T10:22:53.684927Z",
     "iopub.status.busy": "2023-07-13T10:22:53.684580Z",
     "iopub.status.idle": "2023-07-13T10:22:56.768132Z",
     "shell.execute_reply": "2023-07-13T10:22:56.766836Z"
    },
    "papermill": {
     "duration": 3.093546,
     "end_time": "2023-07-13T10:22:56.770560",
     "exception": false,
     "start_time": "2023-07-13T10:22:53.677014",
     "status": "completed"
    },
    "tags": []
   },
   "outputs": [
    {
     "name": "stdout",
     "output_type": "stream",
     "text": [
      "Setup complete.\n"
     ]
    }
   ],
   "source": [
    "import pandas as pd\n",
    "\n",
    "reviews = pd.read_csv(\"../input/wine-reviews/winemag-data-130k-v2.csv\", index_col=0)\n",
    "#pd.set_option(\"display.max_rows\", 5)\n",
    "\n",
    "from learntools.core import binder; binder.bind(globals())\n",
    "from learntools.pandas.grouping_and_sorting import *\n",
    "print(\"Setup complete.\")"
   ]
  },
  {
   "cell_type": "markdown",
   "id": "511a5de6",
   "metadata": {
    "papermill": {
     "duration": 0.005298,
     "end_time": "2023-07-13T10:22:56.781584",
     "exception": false,
     "start_time": "2023-07-13T10:22:56.776286",
     "status": "completed"
    },
    "tags": []
   },
   "source": [
    "# Exercises"
   ]
  },
  {
   "cell_type": "markdown",
   "id": "a77fd320",
   "metadata": {
    "papermill": {
     "duration": 0.005452,
     "end_time": "2023-07-13T10:22:56.792671",
     "exception": false,
     "start_time": "2023-07-13T10:22:56.787219",
     "status": "completed"
    },
    "tags": []
   },
   "source": [
    "## 1.\n",
    "Who are the most common wine reviewers in the dataset? Create a `Series` whose index is the `taster_twitter_handle` category from the dataset, and whose values count how many reviews each person wrote."
   ]
  },
  {
   "cell_type": "code",
   "execution_count": 2,
   "id": "b5f3c431",
   "metadata": {
    "execution": {
     "iopub.execute_input": "2023-07-13T10:22:56.806200Z",
     "iopub.status.busy": "2023-07-13T10:22:56.805167Z",
     "iopub.status.idle": "2023-07-13T10:22:56.835655Z",
     "shell.execute_reply": "2023-07-13T10:22:56.834592Z"
    },
    "papermill": {
     "duration": 0.039626,
     "end_time": "2023-07-13T10:22:56.838008",
     "exception": false,
     "start_time": "2023-07-13T10:22:56.798382",
     "status": "completed"
    },
    "tags": []
   },
   "outputs": [
    {
     "data": {
      "application/javascript": [
       "parent.postMessage({\"jupyterEvent\": \"custom.exercise_interaction\", \"data\": {\"outcomeType\": 1, \"valueTowardsCompletion\": 0.16666666666666666, \"interactionType\": 1, \"questionType\": 1, \"questionId\": \"1_ReviewsWritten\", \"learnToolsVersion\": \"0.3.4\", \"failureMessage\": \"\", \"exceptionClass\": \"\", \"trace\": \"\"}}, \"*\")"
      ],
      "text/plain": [
       "<IPython.core.display.Javascript object>"
      ]
     },
     "metadata": {},
     "output_type": "display_data"
    },
    {
     "data": {
      "text/markdown": [
       "<span style=\"color:#33cc33\">Correct:</span> \n",
       "\n",
       "\n",
       "```python\n",
       "reviews_written = reviews.groupby('taster_twitter_handle').size()\n",
       "```\n",
       "or\n",
       "```python\n",
       "reviews_written = reviews.groupby('taster_twitter_handle').taster_twitter_handle.count()\n",
       "```\n"
      ],
      "text/plain": [
       "Correct: \n",
       "\n",
       "\n",
       "```python\n",
       "reviews_written = reviews.groupby('taster_twitter_handle').size()\n",
       "```\n",
       "or\n",
       "```python\n",
       "reviews_written = reviews.groupby('taster_twitter_handle').taster_twitter_handle.count()\n",
       "```"
      ]
     },
     "metadata": {},
     "output_type": "display_data"
    }
   ],
   "source": [
    "# Your code here\n",
    "reviews_written = reviews.groupby(['taster_twitter_handle']).taster_twitter_handle.count()\n",
    "\n",
    "# Check your answer\n",
    "q1.check()"
   ]
  },
  {
   "cell_type": "code",
   "execution_count": 3,
   "id": "c566d6b5",
   "metadata": {
    "execution": {
     "iopub.execute_input": "2023-07-13T10:22:56.851515Z",
     "iopub.status.busy": "2023-07-13T10:22:56.851094Z",
     "iopub.status.idle": "2023-07-13T10:22:56.874337Z",
     "shell.execute_reply": "2023-07-13T10:22:56.873199Z"
    },
    "papermill": {
     "duration": 0.032695,
     "end_time": "2023-07-13T10:22:56.876686",
     "exception": false,
     "start_time": "2023-07-13T10:22:56.843991",
     "status": "completed"
    },
    "tags": []
   },
   "outputs": [
    {
     "data": {
      "text/html": [
       "<div>\n",
       "<style scoped>\n",
       "    .dataframe tbody tr th:only-of-type {\n",
       "        vertical-align: middle;\n",
       "    }\n",
       "\n",
       "    .dataframe tbody tr th {\n",
       "        vertical-align: top;\n",
       "    }\n",
       "\n",
       "    .dataframe thead th {\n",
       "        text-align: right;\n",
       "    }\n",
       "</style>\n",
       "<table border=\"1\" class=\"dataframe\">\n",
       "  <thead>\n",
       "    <tr style=\"text-align: right;\">\n",
       "      <th></th>\n",
       "      <th>country</th>\n",
       "      <th>description</th>\n",
       "      <th>designation</th>\n",
       "      <th>points</th>\n",
       "      <th>price</th>\n",
       "      <th>province</th>\n",
       "      <th>region_1</th>\n",
       "      <th>region_2</th>\n",
       "      <th>taster_name</th>\n",
       "      <th>taster_twitter_handle</th>\n",
       "      <th>title</th>\n",
       "      <th>variety</th>\n",
       "      <th>winery</th>\n",
       "    </tr>\n",
       "  </thead>\n",
       "  <tbody>\n",
       "    <tr>\n",
       "      <th>0</th>\n",
       "      <td>Italy</td>\n",
       "      <td>Aromas include tropical fruit, broom, brimston...</td>\n",
       "      <td>Vulkà Bianco</td>\n",
       "      <td>87</td>\n",
       "      <td>NaN</td>\n",
       "      <td>Sicily &amp; Sardinia</td>\n",
       "      <td>Etna</td>\n",
       "      <td>NaN</td>\n",
       "      <td>Kerin O’Keefe</td>\n",
       "      <td>@kerinokeefe</td>\n",
       "      <td>Nicosia 2013 Vulkà Bianco  (Etna)</td>\n",
       "      <td>White Blend</td>\n",
       "      <td>Nicosia</td>\n",
       "    </tr>\n",
       "    <tr>\n",
       "      <th>1</th>\n",
       "      <td>Portugal</td>\n",
       "      <td>This is ripe and fruity, a wine that is smooth...</td>\n",
       "      <td>Avidagos</td>\n",
       "      <td>87</td>\n",
       "      <td>15.0</td>\n",
       "      <td>Douro</td>\n",
       "      <td>NaN</td>\n",
       "      <td>NaN</td>\n",
       "      <td>Roger Voss</td>\n",
       "      <td>@vossroger</td>\n",
       "      <td>Quinta dos Avidagos 2011 Avidagos Red (Douro)</td>\n",
       "      <td>Portuguese Red</td>\n",
       "      <td>Quinta dos Avidagos</td>\n",
       "    </tr>\n",
       "    <tr>\n",
       "      <th>2</th>\n",
       "      <td>US</td>\n",
       "      <td>Tart and snappy, the flavors of lime flesh and...</td>\n",
       "      <td>NaN</td>\n",
       "      <td>87</td>\n",
       "      <td>14.0</td>\n",
       "      <td>Oregon</td>\n",
       "      <td>Willamette Valley</td>\n",
       "      <td>Willamette Valley</td>\n",
       "      <td>Paul Gregutt</td>\n",
       "      <td>@paulgwine</td>\n",
       "      <td>Rainstorm 2013 Pinot Gris (Willamette Valley)</td>\n",
       "      <td>Pinot Gris</td>\n",
       "      <td>Rainstorm</td>\n",
       "    </tr>\n",
       "    <tr>\n",
       "      <th>3</th>\n",
       "      <td>US</td>\n",
       "      <td>Pineapple rind, lemon pith and orange blossom ...</td>\n",
       "      <td>Reserve Late Harvest</td>\n",
       "      <td>87</td>\n",
       "      <td>13.0</td>\n",
       "      <td>Michigan</td>\n",
       "      <td>Lake Michigan Shore</td>\n",
       "      <td>NaN</td>\n",
       "      <td>Alexander Peartree</td>\n",
       "      <td>NaN</td>\n",
       "      <td>St. Julian 2013 Reserve Late Harvest Riesling ...</td>\n",
       "      <td>Riesling</td>\n",
       "      <td>St. Julian</td>\n",
       "    </tr>\n",
       "    <tr>\n",
       "      <th>4</th>\n",
       "      <td>US</td>\n",
       "      <td>Much like the regular bottling from 2012, this...</td>\n",
       "      <td>Vintner's Reserve Wild Child Block</td>\n",
       "      <td>87</td>\n",
       "      <td>65.0</td>\n",
       "      <td>Oregon</td>\n",
       "      <td>Willamette Valley</td>\n",
       "      <td>Willamette Valley</td>\n",
       "      <td>Paul Gregutt</td>\n",
       "      <td>@paulgwine</td>\n",
       "      <td>Sweet Cheeks 2012 Vintner's Reserve Wild Child...</td>\n",
       "      <td>Pinot Noir</td>\n",
       "      <td>Sweet Cheeks</td>\n",
       "    </tr>\n",
       "  </tbody>\n",
       "</table>\n",
       "</div>"
      ],
      "text/plain": [
       "    country                                        description  \\\n",
       "0     Italy  Aromas include tropical fruit, broom, brimston...   \n",
       "1  Portugal  This is ripe and fruity, a wine that is smooth...   \n",
       "2        US  Tart and snappy, the flavors of lime flesh and...   \n",
       "3        US  Pineapple rind, lemon pith and orange blossom ...   \n",
       "4        US  Much like the regular bottling from 2012, this...   \n",
       "\n",
       "                          designation  points  price           province  \\\n",
       "0                        Vulkà Bianco      87    NaN  Sicily & Sardinia   \n",
       "1                            Avidagos      87   15.0              Douro   \n",
       "2                                 NaN      87   14.0             Oregon   \n",
       "3                Reserve Late Harvest      87   13.0           Michigan   \n",
       "4  Vintner's Reserve Wild Child Block      87   65.0             Oregon   \n",
       "\n",
       "              region_1           region_2         taster_name  \\\n",
       "0                 Etna                NaN       Kerin O’Keefe   \n",
       "1                  NaN                NaN          Roger Voss   \n",
       "2    Willamette Valley  Willamette Valley        Paul Gregutt   \n",
       "3  Lake Michigan Shore                NaN  Alexander Peartree   \n",
       "4    Willamette Valley  Willamette Valley        Paul Gregutt   \n",
       "\n",
       "  taster_twitter_handle                                              title  \\\n",
       "0          @kerinokeefe                  Nicosia 2013 Vulkà Bianco  (Etna)   \n",
       "1            @vossroger      Quinta dos Avidagos 2011 Avidagos Red (Douro)   \n",
       "2           @paulgwine       Rainstorm 2013 Pinot Gris (Willamette Valley)   \n",
       "3                   NaN  St. Julian 2013 Reserve Late Harvest Riesling ...   \n",
       "4           @paulgwine   Sweet Cheeks 2012 Vintner's Reserve Wild Child...   \n",
       "\n",
       "          variety               winery  \n",
       "0     White Blend              Nicosia  \n",
       "1  Portuguese Red  Quinta dos Avidagos  \n",
       "2      Pinot Gris            Rainstorm  \n",
       "3        Riesling           St. Julian  \n",
       "4      Pinot Noir         Sweet Cheeks  "
      ]
     },
     "execution_count": 3,
     "metadata": {},
     "output_type": "execute_result"
    }
   ],
   "source": [
    "#q1.hint()\n",
    "reviews.head()\n",
    "#q1.solution()"
   ]
  },
  {
   "cell_type": "markdown",
   "id": "0b723196",
   "metadata": {
    "papermill": {
     "duration": 0.008227,
     "end_time": "2023-07-13T10:22:56.891147",
     "exception": false,
     "start_time": "2023-07-13T10:22:56.882920",
     "status": "completed"
    },
    "tags": []
   },
   "source": [
    "## 2.\n",
    "What is the best wine I can buy for a given amount of money? Create a `Series` whose index is wine prices and whose values is the maximum number of points a wine costing that much was given in a review. Sort the values by price, ascending (so that `4.0` dollars is at the top and `3300.0` dollars is at the bottom)."
   ]
  },
  {
   "cell_type": "code",
   "execution_count": 4,
   "id": "5bf78130",
   "metadata": {
    "execution": {
     "iopub.execute_input": "2023-07-13T10:22:56.905296Z",
     "iopub.status.busy": "2023-07-13T10:22:56.904890Z",
     "iopub.status.idle": "2023-07-13T10:22:56.918772Z",
     "shell.execute_reply": "2023-07-13T10:22:56.917712Z"
    },
    "papermill": {
     "duration": 0.023861,
     "end_time": "2023-07-13T10:22:56.921197",
     "exception": false,
     "start_time": "2023-07-13T10:22:56.897336",
     "status": "completed"
    },
    "tags": []
   },
   "outputs": [
    {
     "data": {
      "application/javascript": [
       "parent.postMessage({\"jupyterEvent\": \"custom.exercise_interaction\", \"data\": {\"outcomeType\": 1, \"valueTowardsCompletion\": 0.16666666666666666, \"interactionType\": 1, \"questionType\": 1, \"questionId\": \"2_BestRatingPerPrice\", \"learnToolsVersion\": \"0.3.4\", \"failureMessage\": \"\", \"exceptionClass\": \"\", \"trace\": \"\"}}, \"*\")"
      ],
      "text/plain": [
       "<IPython.core.display.Javascript object>"
      ]
     },
     "metadata": {},
     "output_type": "display_data"
    },
    {
     "data": {
      "text/markdown": [
       "<span style=\"color:#33cc33\">Correct</span>"
      ],
      "text/plain": [
       "Correct"
      ]
     },
     "metadata": {},
     "output_type": "display_data"
    }
   ],
   "source": [
    "best_rating_per_price = reviews.groupby('price')['points'].max().sort_index()\n",
    "# Check your answer\n",
    "q2.check()"
   ]
  },
  {
   "cell_type": "code",
   "execution_count": 5,
   "id": "847be4c8",
   "metadata": {
    "execution": {
     "iopub.execute_input": "2023-07-13T10:22:56.936659Z",
     "iopub.status.busy": "2023-07-13T10:22:56.935575Z",
     "iopub.status.idle": "2023-07-13T10:22:56.940356Z",
     "shell.execute_reply": "2023-07-13T10:22:56.939512Z"
    },
    "papermill": {
     "duration": 0.014831,
     "end_time": "2023-07-13T10:22:56.942613",
     "exception": false,
     "start_time": "2023-07-13T10:22:56.927782",
     "status": "completed"
    },
    "tags": []
   },
   "outputs": [],
   "source": [
    "#q2.hint()\n",
    "#q2.solution()"
   ]
  },
  {
   "cell_type": "markdown",
   "id": "ad919c71",
   "metadata": {
    "papermill": {
     "duration": 0.006933,
     "end_time": "2023-07-13T10:22:56.956099",
     "exception": false,
     "start_time": "2023-07-13T10:22:56.949166",
     "status": "completed"
    },
    "tags": []
   },
   "source": [
    "## 3.\n",
    "What are the minimum and maximum prices for each `variety` of wine? Create a `DataFrame` whose index is the `variety` category from the dataset and whose values are the `min` and `max` values thereof."
   ]
  },
  {
   "cell_type": "code",
   "execution_count": 6,
   "id": "891f895d",
   "metadata": {
    "execution": {
     "iopub.execute_input": "2023-07-13T10:22:56.971910Z",
     "iopub.status.busy": "2023-07-13T10:22:56.971155Z",
     "iopub.status.idle": "2023-07-13T10:22:56.997721Z",
     "shell.execute_reply": "2023-07-13T10:22:56.996676Z"
    },
    "papermill": {
     "duration": 0.037086,
     "end_time": "2023-07-13T10:22:56.999859",
     "exception": false,
     "start_time": "2023-07-13T10:22:56.962773",
     "status": "completed"
    },
    "tags": []
   },
   "outputs": [
    {
     "data": {
      "application/javascript": [
       "parent.postMessage({\"jupyterEvent\": \"custom.exercise_interaction\", \"data\": {\"outcomeType\": 1, \"valueTowardsCompletion\": 0.16666666666666666, \"interactionType\": 1, \"questionType\": 1, \"questionId\": \"3_PriceExtremes\", \"learnToolsVersion\": \"0.3.4\", \"failureMessage\": \"\", \"exceptionClass\": \"\", \"trace\": \"\"}}, \"*\")"
      ],
      "text/plain": [
       "<IPython.core.display.Javascript object>"
      ]
     },
     "metadata": {},
     "output_type": "display_data"
    },
    {
     "data": {
      "text/markdown": [
       "<span style=\"color:#33cc33\">Correct</span>"
      ],
      "text/plain": [
       "Correct"
      ]
     },
     "metadata": {},
     "output_type": "display_data"
    }
   ],
   "source": [
    "price_extremes = reviews.groupby('variety').price.agg(['min','max'])\n",
    "\n",
    "# Check your answer\n",
    "q3.check()"
   ]
  },
  {
   "cell_type": "code",
   "execution_count": 7,
   "id": "893228ff",
   "metadata": {
    "execution": {
     "iopub.execute_input": "2023-07-13T10:22:57.015427Z",
     "iopub.status.busy": "2023-07-13T10:22:57.014660Z",
     "iopub.status.idle": "2023-07-13T10:22:57.019384Z",
     "shell.execute_reply": "2023-07-13T10:22:57.018433Z"
    },
    "papermill": {
     "duration": 0.015278,
     "end_time": "2023-07-13T10:22:57.021796",
     "exception": false,
     "start_time": "2023-07-13T10:22:57.006518",
     "status": "completed"
    },
    "tags": []
   },
   "outputs": [],
   "source": [
    "#q3.hint()\n",
    "#q3.solution()"
   ]
  },
  {
   "cell_type": "markdown",
   "id": "df12f316",
   "metadata": {
    "papermill": {
     "duration": 0.006552,
     "end_time": "2023-07-13T10:22:57.035302",
     "exception": false,
     "start_time": "2023-07-13T10:22:57.028750",
     "status": "completed"
    },
    "tags": []
   },
   "source": [
    "## 4.\n",
    "What are the most expensive wine varieties? Create a variable `sorted_varieties` containing a copy of the dataframe from the previous question where varieties are sorted in descending order based on minimum price, then on maximum price (to break ties)."
   ]
  },
  {
   "cell_type": "code",
   "execution_count": 8,
   "id": "e532ed85",
   "metadata": {
    "execution": {
     "iopub.execute_input": "2023-07-13T10:22:57.051590Z",
     "iopub.status.busy": "2023-07-13T10:22:57.050275Z",
     "iopub.status.idle": "2023-07-13T10:22:57.062683Z",
     "shell.execute_reply": "2023-07-13T10:22:57.061820Z"
    },
    "papermill": {
     "duration": 0.022749,
     "end_time": "2023-07-13T10:22:57.064838",
     "exception": false,
     "start_time": "2023-07-13T10:22:57.042089",
     "status": "completed"
    },
    "tags": []
   },
   "outputs": [
    {
     "data": {
      "application/javascript": [
       "parent.postMessage({\"jupyterEvent\": \"custom.exercise_interaction\", \"data\": {\"outcomeType\": 1, \"valueTowardsCompletion\": 0.16666666666666666, \"interactionType\": 1, \"questionType\": 1, \"questionId\": \"4_SortedVarieties\", \"learnToolsVersion\": \"0.3.4\", \"failureMessage\": \"\", \"exceptionClass\": \"\", \"trace\": \"\"}}, \"*\")"
      ],
      "text/plain": [
       "<IPython.core.display.Javascript object>"
      ]
     },
     "metadata": {},
     "output_type": "display_data"
    },
    {
     "data": {
      "text/markdown": [
       "<span style=\"color:#33cc33\">Correct</span>"
      ],
      "text/plain": [
       "Correct"
      ]
     },
     "metadata": {},
     "output_type": "display_data"
    }
   ],
   "source": [
    "sorted_varieties = price_extremes.sort_values(by=['min','max'],ascending=False)\n",
    "\n",
    "# Check your answer\n",
    "q4.check()"
   ]
  },
  {
   "cell_type": "code",
   "execution_count": 9,
   "id": "f078783f",
   "metadata": {
    "execution": {
     "iopub.execute_input": "2023-07-13T10:22:57.081176Z",
     "iopub.status.busy": "2023-07-13T10:22:57.080752Z",
     "iopub.status.idle": "2023-07-13T10:22:57.085080Z",
     "shell.execute_reply": "2023-07-13T10:22:57.083776Z"
    },
    "papermill": {
     "duration": 0.015032,
     "end_time": "2023-07-13T10:22:57.087429",
     "exception": false,
     "start_time": "2023-07-13T10:22:57.072397",
     "status": "completed"
    },
    "tags": []
   },
   "outputs": [],
   "source": [
    "#q4.hint()\n",
    "#q4.solution()"
   ]
  },
  {
   "cell_type": "markdown",
   "id": "5293c929",
   "metadata": {
    "papermill": {
     "duration": 0.006566,
     "end_time": "2023-07-13T10:22:57.100986",
     "exception": false,
     "start_time": "2023-07-13T10:22:57.094420",
     "status": "completed"
    },
    "tags": []
   },
   "source": [
    "## 5.\n",
    "Create a `Series` whose index is reviewers and whose values is the average review score given out by that reviewer. Hint: you will need the `taster_name` and `points` columns."
   ]
  },
  {
   "cell_type": "code",
   "execution_count": 10,
   "id": "d9b643c8",
   "metadata": {
    "execution": {
     "iopub.execute_input": "2023-07-13T10:22:57.116972Z",
     "iopub.status.busy": "2023-07-13T10:22:57.116243Z",
     "iopub.status.idle": "2023-07-13T10:22:57.139488Z",
     "shell.execute_reply": "2023-07-13T10:22:57.138290Z"
    },
    "papermill": {
     "duration": 0.034096,
     "end_time": "2023-07-13T10:22:57.142087",
     "exception": false,
     "start_time": "2023-07-13T10:22:57.107991",
     "status": "completed"
    },
    "tags": []
   },
   "outputs": [
    {
     "data": {
      "application/javascript": [
       "parent.postMessage({\"jupyterEvent\": \"custom.exercise_interaction\", \"data\": {\"outcomeType\": 1, \"valueTowardsCompletion\": 0.16666666666666666, \"interactionType\": 1, \"questionType\": 1, \"questionId\": \"5_ReviewerMeanRatings\", \"learnToolsVersion\": \"0.3.4\", \"failureMessage\": \"\", \"exceptionClass\": \"\", \"trace\": \"\"}}, \"*\")"
      ],
      "text/plain": [
       "<IPython.core.display.Javascript object>"
      ]
     },
     "metadata": {},
     "output_type": "display_data"
    },
    {
     "data": {
      "text/markdown": [
       "<span style=\"color:#33cc33\">Correct</span>"
      ],
      "text/plain": [
       "Correct"
      ]
     },
     "metadata": {},
     "output_type": "display_data"
    }
   ],
   "source": [
    "reviewer_mean_ratings = reviews.groupby('taster_name')['points'].mean()\n",
    "\n",
    "# Check your answer\n",
    "q5.check()"
   ]
  },
  {
   "cell_type": "code",
   "execution_count": 11,
   "id": "2b1ccc5d",
   "metadata": {
    "execution": {
     "iopub.execute_input": "2023-07-13T10:22:57.160558Z",
     "iopub.status.busy": "2023-07-13T10:22:57.159509Z",
     "iopub.status.idle": "2023-07-13T10:22:57.164516Z",
     "shell.execute_reply": "2023-07-13T10:22:57.163460Z"
    },
    "papermill": {
     "duration": 0.016018,
     "end_time": "2023-07-13T10:22:57.166838",
     "exception": false,
     "start_time": "2023-07-13T10:22:57.150820",
     "status": "completed"
    },
    "tags": []
   },
   "outputs": [],
   "source": [
    "#q5.hint()\n",
    "#q5.solution()"
   ]
  },
  {
   "cell_type": "markdown",
   "id": "44345cd9",
   "metadata": {
    "papermill": {
     "duration": 0.006975,
     "end_time": "2023-07-13T10:22:57.181235",
     "exception": false,
     "start_time": "2023-07-13T10:22:57.174260",
     "status": "completed"
    },
    "tags": []
   },
   "source": [
    "Are there significant differences in the average scores assigned by the various reviewers? Run the cell below to use the `describe()` method to see a summary of the range of values."
   ]
  },
  {
   "cell_type": "code",
   "execution_count": 12,
   "id": "ce1a795f",
   "metadata": {
    "execution": {
     "iopub.execute_input": "2023-07-13T10:22:57.197613Z",
     "iopub.status.busy": "2023-07-13T10:22:57.197207Z",
     "iopub.status.idle": "2023-07-13T10:22:57.210728Z",
     "shell.execute_reply": "2023-07-13T10:22:57.209604Z"
    },
    "papermill": {
     "duration": 0.024543,
     "end_time": "2023-07-13T10:22:57.212957",
     "exception": false,
     "start_time": "2023-07-13T10:22:57.188414",
     "status": "completed"
    },
    "tags": []
   },
   "outputs": [
    {
     "data": {
      "text/plain": [
       "count    19.000000\n",
       "mean     88.233026\n",
       "std       1.243610\n",
       "min      85.855422\n",
       "25%      87.323501\n",
       "50%      88.536235\n",
       "75%      88.975256\n",
       "max      90.562551\n",
       "Name: points, dtype: float64"
      ]
     },
     "execution_count": 12,
     "metadata": {},
     "output_type": "execute_result"
    }
   ],
   "source": [
    "reviewer_mean_ratings.describe()"
   ]
  },
  {
   "cell_type": "markdown",
   "id": "9ac3c1bc",
   "metadata": {
    "papermill": {
     "duration": 0.007385,
     "end_time": "2023-07-13T10:22:57.229011",
     "exception": false,
     "start_time": "2023-07-13T10:22:57.221626",
     "status": "completed"
    },
    "tags": []
   },
   "source": [
    "## 6.\n",
    "What combination of countries and varieties are most common? Create a `Series` whose index is a `MultiIndex`of `{country, variety}` pairs. For example, a pinot noir produced in the US should map to `{\"US\", \"Pinot Noir\"}`. Sort the values in the `Series` in descending order based on wine count."
   ]
  },
  {
   "cell_type": "code",
   "execution_count": 13,
   "id": "cf91205e",
   "metadata": {
    "execution": {
     "iopub.execute_input": "2023-07-13T10:22:57.245547Z",
     "iopub.status.busy": "2023-07-13T10:22:57.245153Z",
     "iopub.status.idle": "2023-07-13T10:22:57.290410Z",
     "shell.execute_reply": "2023-07-13T10:22:57.289302Z"
    },
    "papermill": {
     "duration": 0.056323,
     "end_time": "2023-07-13T10:22:57.292683",
     "exception": false,
     "start_time": "2023-07-13T10:22:57.236360",
     "status": "completed"
    },
    "tags": []
   },
   "outputs": [
    {
     "data": {
      "application/javascript": [
       "parent.postMessage({\"jupyterEvent\": \"custom.exercise_interaction\", \"data\": {\"outcomeType\": 1, \"valueTowardsCompletion\": 0.16666666666666666, \"interactionType\": 1, \"questionType\": 1, \"questionId\": \"6_GroupbyCountryVariety\", \"learnToolsVersion\": \"0.3.4\", \"failureMessage\": \"\", \"exceptionClass\": \"\", \"trace\": \"\"}}, \"*\")"
      ],
      "text/plain": [
       "<IPython.core.display.Javascript object>"
      ]
     },
     "metadata": {},
     "output_type": "display_data"
    },
    {
     "data": {
      "text/markdown": [
       "<span style=\"color:#33cc33\">Correct</span>"
      ],
      "text/plain": [
       "Correct"
      ]
     },
     "metadata": {},
     "output_type": "display_data"
    }
   ],
   "source": [
    "country_variety_counts = reviews.groupby(['country','variety'])['variety'].count().sort_values(ascending=False)\n",
    "\n",
    "# Check your answer\n",
    "q6.check()"
   ]
  },
  {
   "cell_type": "code",
   "execution_count": 14,
   "id": "b612ac68",
   "metadata": {
    "execution": {
     "iopub.execute_input": "2023-07-13T10:22:57.310042Z",
     "iopub.status.busy": "2023-07-13T10:22:57.309009Z",
     "iopub.status.idle": "2023-07-13T10:22:57.314099Z",
     "shell.execute_reply": "2023-07-13T10:22:57.312892Z"
    },
    "papermill": {
     "duration": 0.016388,
     "end_time": "2023-07-13T10:22:57.316611",
     "exception": false,
     "start_time": "2023-07-13T10:22:57.300223",
     "status": "completed"
    },
    "tags": []
   },
   "outputs": [],
   "source": [
    "#q6.hint()\n",
    "#q6.solution()"
   ]
  },
  {
   "cell_type": "markdown",
   "id": "a1ffde52",
   "metadata": {
    "papermill": {
     "duration": 0.007146,
     "end_time": "2023-07-13T10:22:57.331425",
     "exception": false,
     "start_time": "2023-07-13T10:22:57.324279",
     "status": "completed"
    },
    "tags": []
   },
   "source": [
    "# Keep going\n",
    "\n",
    "Move on to the [**data types and missing data**](https://www.kaggle.com/residentmario/data-types-and-missing-values)."
   ]
  },
  {
   "cell_type": "markdown",
   "id": "20c85de9",
   "metadata": {
    "papermill": {
     "duration": 0.007193,
     "end_time": "2023-07-13T10:22:57.346515",
     "exception": false,
     "start_time": "2023-07-13T10:22:57.339322",
     "status": "completed"
    },
    "tags": []
   },
   "source": [
    "---\n",
    "\n",
    "\n",
    "\n",
    "\n",
    "*Have questions or comments? Visit the [course discussion forum](https://www.kaggle.com/learn/pandas/discussion) to chat with other learners.*"
   ]
  }
 ],
 "metadata": {
  "kernelspec": {
   "display_name": "Python 3",
   "language": "python",
   "name": "python3"
  },
  "language_info": {
   "codemirror_mode": {
    "name": "ipython",
    "version": 3
   },
   "file_extension": ".py",
   "mimetype": "text/x-python",
   "name": "python",
   "nbconvert_exporter": "python",
   "pygments_lexer": "ipython3",
   "version": "3.10.12"
  },
  "papermill": {
   "default_parameters": {},
   "duration": 14.45311,
   "end_time": "2023-07-13T10:22:58.277311",
   "environment_variables": {},
   "exception": null,
   "input_path": "__notebook__.ipynb",
   "output_path": "__notebook__.ipynb",
   "parameters": {},
   "start_time": "2023-07-13T10:22:43.824201",
   "version": "2.4.0"
  }
 },
 "nbformat": 4,
 "nbformat_minor": 5
}
