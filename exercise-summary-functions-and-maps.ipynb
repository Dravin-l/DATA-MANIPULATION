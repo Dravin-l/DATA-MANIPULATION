{
 "cells": [
  {
   "cell_type": "markdown",
   "id": "74fea25f",
   "metadata": {
    "papermill": {
     "duration": 0.008168,
     "end_time": "2023-07-13T09:44:40.637861",
     "exception": false,
     "start_time": "2023-07-13T09:44:40.629693",
     "status": "completed"
    },
    "tags": []
   },
   "source": [
    "**This notebook is an exercise in the [Pandas](https://www.kaggle.com/learn/pandas) course.  You can reference the tutorial at [this link](https://www.kaggle.com/residentmario/summary-functions-and-maps).**\n",
    "\n",
    "---\n"
   ]
  },
  {
   "cell_type": "markdown",
   "id": "bbe81fc9",
   "metadata": {
    "papermill": {
     "duration": 0.007706,
     "end_time": "2023-07-13T09:44:40.654036",
     "exception": false,
     "start_time": "2023-07-13T09:44:40.646330",
     "status": "completed"
    },
    "tags": []
   },
   "source": [
    "# Introduction\n",
    "\n",
    "Now you are ready to get a deeper understanding of your data.\n",
    "\n",
    "Run the following cell to load your data and some utility functions (including code to check your answers)."
   ]
  },
  {
   "cell_type": "code",
   "execution_count": 1,
   "id": "20e024dc",
   "metadata": {
    "execution": {
     "iopub.execute_input": "2023-07-13T09:44:40.672481Z",
     "iopub.status.busy": "2023-07-13T09:44:40.671936Z",
     "iopub.status.idle": "2023-07-13T09:44:47.239323Z",
     "shell.execute_reply": "2023-07-13T09:44:47.238275Z"
    },
    "papermill": {
     "duration": 6.579961,
     "end_time": "2023-07-13T09:44:47.242115",
     "exception": false,
     "start_time": "2023-07-13T09:44:40.662154",
     "status": "completed"
    },
    "tags": []
   },
   "outputs": [
    {
     "name": "stdout",
     "output_type": "stream",
     "text": [
      "Setup complete.\n"
     ]
    },
    {
     "data": {
      "text/html": [
       "<div>\n",
       "<style scoped>\n",
       "    .dataframe tbody tr th:only-of-type {\n",
       "        vertical-align: middle;\n",
       "    }\n",
       "\n",
       "    .dataframe tbody tr th {\n",
       "        vertical-align: top;\n",
       "    }\n",
       "\n",
       "    .dataframe thead th {\n",
       "        text-align: right;\n",
       "    }\n",
       "</style>\n",
       "<table border=\"1\" class=\"dataframe\">\n",
       "  <thead>\n",
       "    <tr style=\"text-align: right;\">\n",
       "      <th></th>\n",
       "      <th>country</th>\n",
       "      <th>description</th>\n",
       "      <th>designation</th>\n",
       "      <th>points</th>\n",
       "      <th>price</th>\n",
       "      <th>province</th>\n",
       "      <th>region_1</th>\n",
       "      <th>region_2</th>\n",
       "      <th>taster_name</th>\n",
       "      <th>taster_twitter_handle</th>\n",
       "      <th>title</th>\n",
       "      <th>variety</th>\n",
       "      <th>winery</th>\n",
       "    </tr>\n",
       "  </thead>\n",
       "  <tbody>\n",
       "    <tr>\n",
       "      <th>0</th>\n",
       "      <td>Italy</td>\n",
       "      <td>Aromas include tropical fruit, broom, brimston...</td>\n",
       "      <td>Vulkà Bianco</td>\n",
       "      <td>87</td>\n",
       "      <td>NaN</td>\n",
       "      <td>Sicily &amp; Sardinia</td>\n",
       "      <td>Etna</td>\n",
       "      <td>NaN</td>\n",
       "      <td>Kerin O’Keefe</td>\n",
       "      <td>@kerinokeefe</td>\n",
       "      <td>Nicosia 2013 Vulkà Bianco  (Etna)</td>\n",
       "      <td>White Blend</td>\n",
       "      <td>Nicosia</td>\n",
       "    </tr>\n",
       "    <tr>\n",
       "      <th>1</th>\n",
       "      <td>Portugal</td>\n",
       "      <td>This is ripe and fruity, a wine that is smooth...</td>\n",
       "      <td>Avidagos</td>\n",
       "      <td>87</td>\n",
       "      <td>15.0</td>\n",
       "      <td>Douro</td>\n",
       "      <td>NaN</td>\n",
       "      <td>NaN</td>\n",
       "      <td>Roger Voss</td>\n",
       "      <td>@vossroger</td>\n",
       "      <td>Quinta dos Avidagos 2011 Avidagos Red (Douro)</td>\n",
       "      <td>Portuguese Red</td>\n",
       "      <td>Quinta dos Avidagos</td>\n",
       "    </tr>\n",
       "    <tr>\n",
       "      <th>2</th>\n",
       "      <td>US</td>\n",
       "      <td>Tart and snappy, the flavors of lime flesh and...</td>\n",
       "      <td>NaN</td>\n",
       "      <td>87</td>\n",
       "      <td>14.0</td>\n",
       "      <td>Oregon</td>\n",
       "      <td>Willamette Valley</td>\n",
       "      <td>Willamette Valley</td>\n",
       "      <td>Paul Gregutt</td>\n",
       "      <td>@paulgwine</td>\n",
       "      <td>Rainstorm 2013 Pinot Gris (Willamette Valley)</td>\n",
       "      <td>Pinot Gris</td>\n",
       "      <td>Rainstorm</td>\n",
       "    </tr>\n",
       "    <tr>\n",
       "      <th>3</th>\n",
       "      <td>US</td>\n",
       "      <td>Pineapple rind, lemon pith and orange blossom ...</td>\n",
       "      <td>Reserve Late Harvest</td>\n",
       "      <td>87</td>\n",
       "      <td>13.0</td>\n",
       "      <td>Michigan</td>\n",
       "      <td>Lake Michigan Shore</td>\n",
       "      <td>NaN</td>\n",
       "      <td>Alexander Peartree</td>\n",
       "      <td>NaN</td>\n",
       "      <td>St. Julian 2013 Reserve Late Harvest Riesling ...</td>\n",
       "      <td>Riesling</td>\n",
       "      <td>St. Julian</td>\n",
       "    </tr>\n",
       "    <tr>\n",
       "      <th>4</th>\n",
       "      <td>US</td>\n",
       "      <td>Much like the regular bottling from 2012, this...</td>\n",
       "      <td>Vintner's Reserve Wild Child Block</td>\n",
       "      <td>87</td>\n",
       "      <td>65.0</td>\n",
       "      <td>Oregon</td>\n",
       "      <td>Willamette Valley</td>\n",
       "      <td>Willamette Valley</td>\n",
       "      <td>Paul Gregutt</td>\n",
       "      <td>@paulgwine</td>\n",
       "      <td>Sweet Cheeks 2012 Vintner's Reserve Wild Child...</td>\n",
       "      <td>Pinot Noir</td>\n",
       "      <td>Sweet Cheeks</td>\n",
       "    </tr>\n",
       "  </tbody>\n",
       "</table>\n",
       "</div>"
      ],
      "text/plain": [
       "    country                                        description  \\\n",
       "0     Italy  Aromas include tropical fruit, broom, brimston...   \n",
       "1  Portugal  This is ripe and fruity, a wine that is smooth...   \n",
       "2        US  Tart and snappy, the flavors of lime flesh and...   \n",
       "3        US  Pineapple rind, lemon pith and orange blossom ...   \n",
       "4        US  Much like the regular bottling from 2012, this...   \n",
       "\n",
       "                          designation  points  price           province  \\\n",
       "0                        Vulkà Bianco      87    NaN  Sicily & Sardinia   \n",
       "1                            Avidagos      87   15.0              Douro   \n",
       "2                                 NaN      87   14.0             Oregon   \n",
       "3                Reserve Late Harvest      87   13.0           Michigan   \n",
       "4  Vintner's Reserve Wild Child Block      87   65.0             Oregon   \n",
       "\n",
       "              region_1           region_2         taster_name  \\\n",
       "0                 Etna                NaN       Kerin O’Keefe   \n",
       "1                  NaN                NaN          Roger Voss   \n",
       "2    Willamette Valley  Willamette Valley        Paul Gregutt   \n",
       "3  Lake Michigan Shore                NaN  Alexander Peartree   \n",
       "4    Willamette Valley  Willamette Valley        Paul Gregutt   \n",
       "\n",
       "  taster_twitter_handle                                              title  \\\n",
       "0          @kerinokeefe                  Nicosia 2013 Vulkà Bianco  (Etna)   \n",
       "1            @vossroger      Quinta dos Avidagos 2011 Avidagos Red (Douro)   \n",
       "2           @paulgwine       Rainstorm 2013 Pinot Gris (Willamette Valley)   \n",
       "3                   NaN  St. Julian 2013 Reserve Late Harvest Riesling ...   \n",
       "4           @paulgwine   Sweet Cheeks 2012 Vintner's Reserve Wild Child...   \n",
       "\n",
       "          variety               winery  \n",
       "0     White Blend              Nicosia  \n",
       "1  Portuguese Red  Quinta dos Avidagos  \n",
       "2      Pinot Gris            Rainstorm  \n",
       "3        Riesling           St. Julian  \n",
       "4      Pinot Noir         Sweet Cheeks  "
      ]
     },
     "execution_count": 1,
     "metadata": {},
     "output_type": "execute_result"
    }
   ],
   "source": [
    "import pandas as pd\n",
    "pd.set_option(\"display.max_rows\", 5)\n",
    "reviews = pd.read_csv(\"../input/wine-reviews/winemag-data-130k-v2.csv\", index_col=0)\n",
    "\n",
    "from learntools.core import binder; binder.bind(globals())\n",
    "from learntools.pandas.summary_functions_and_maps import *\n",
    "print(\"Setup complete.\")\n",
    "\n",
    "reviews.head()"
   ]
  },
  {
   "cell_type": "markdown",
   "id": "a80485d0",
   "metadata": {
    "papermill": {
     "duration": 0.006037,
     "end_time": "2023-07-13T09:44:47.254555",
     "exception": false,
     "start_time": "2023-07-13T09:44:47.248518",
     "status": "completed"
    },
    "tags": []
   },
   "source": [
    "# Exercises"
   ]
  },
  {
   "cell_type": "markdown",
   "id": "c361ddfb",
   "metadata": {
    "papermill": {
     "duration": 0.005861,
     "end_time": "2023-07-13T09:44:47.266666",
     "exception": false,
     "start_time": "2023-07-13T09:44:47.260805",
     "status": "completed"
    },
    "tags": []
   },
   "source": [
    "## 1.\n",
    "\n",
    "What is the median of the `points` column in the `reviews` DataFrame?"
   ]
  },
  {
   "cell_type": "code",
   "execution_count": 2,
   "id": "71936adf",
   "metadata": {
    "execution": {
     "iopub.execute_input": "2023-07-13T09:44:47.281160Z",
     "iopub.status.busy": "2023-07-13T09:44:47.280722Z",
     "iopub.status.idle": "2023-07-13T09:44:47.292151Z",
     "shell.execute_reply": "2023-07-13T09:44:47.290985Z"
    },
    "papermill": {
     "duration": 0.021533,
     "end_time": "2023-07-13T09:44:47.294512",
     "exception": false,
     "start_time": "2023-07-13T09:44:47.272979",
     "status": "completed"
    },
    "tags": []
   },
   "outputs": [
    {
     "data": {
      "application/javascript": [
       "parent.postMessage({\"jupyterEvent\": \"custom.exercise_interaction\", \"data\": {\"outcomeType\": 1, \"valueTowardsCompletion\": 0.14285714285714285, \"interactionType\": 1, \"questionType\": 1, \"questionId\": \"1_MedianPoints\", \"learnToolsVersion\": \"0.3.4\", \"failureMessage\": \"\", \"exceptionClass\": \"\", \"trace\": \"\"}}, \"*\")"
      ],
      "text/plain": [
       "<IPython.core.display.Javascript object>"
      ]
     },
     "metadata": {},
     "output_type": "display_data"
    },
    {
     "data": {
      "text/markdown": [
       "<span style=\"color:#33cc33\">Correct</span>"
      ],
      "text/plain": [
       "Correct"
      ]
     },
     "metadata": {},
     "output_type": "display_data"
    }
   ],
   "source": [
    "median_points = reviews.points.median()\n",
    "\n",
    "# Check your answer\n",
    "q1.check()"
   ]
  },
  {
   "cell_type": "code",
   "execution_count": 3,
   "id": "66ca9076",
   "metadata": {
    "execution": {
     "iopub.execute_input": "2023-07-13T09:44:47.309411Z",
     "iopub.status.busy": "2023-07-13T09:44:47.308702Z",
     "iopub.status.idle": "2023-07-13T09:44:47.313372Z",
     "shell.execute_reply": "2023-07-13T09:44:47.312425Z"
    },
    "papermill": {
     "duration": 0.014576,
     "end_time": "2023-07-13T09:44:47.315609",
     "exception": false,
     "start_time": "2023-07-13T09:44:47.301033",
     "status": "completed"
    },
    "tags": []
   },
   "outputs": [],
   "source": [
    "#q1.hint()\n",
    "#q1.solution()"
   ]
  },
  {
   "cell_type": "markdown",
   "id": "418ccb3a",
   "metadata": {
    "papermill": {
     "duration": 0.006075,
     "end_time": "2023-07-13T09:44:47.329524",
     "exception": false,
     "start_time": "2023-07-13T09:44:47.323449",
     "status": "completed"
    },
    "tags": []
   },
   "source": [
    "## 2. \n",
    "What countries are represented in the dataset? (Your answer should not include any duplicates.)"
   ]
  },
  {
   "cell_type": "code",
   "execution_count": 4,
   "id": "49879a58",
   "metadata": {
    "execution": {
     "iopub.execute_input": "2023-07-13T09:44:47.344116Z",
     "iopub.status.busy": "2023-07-13T09:44:47.343772Z",
     "iopub.status.idle": "2023-07-13T09:44:47.358757Z",
     "shell.execute_reply": "2023-07-13T09:44:47.357791Z"
    },
    "papermill": {
     "duration": 0.024857,
     "end_time": "2023-07-13T09:44:47.360680",
     "exception": false,
     "start_time": "2023-07-13T09:44:47.335823",
     "status": "completed"
    },
    "tags": []
   },
   "outputs": [
    {
     "data": {
      "application/javascript": [
       "parent.postMessage({\"jupyterEvent\": \"custom.exercise_interaction\", \"data\": {\"outcomeType\": 1, \"valueTowardsCompletion\": 0.14285714285714285, \"interactionType\": 1, \"questionType\": 2, \"questionId\": \"2_UniqueCountries\", \"learnToolsVersion\": \"0.3.4\", \"failureMessage\": \"\", \"exceptionClass\": \"\", \"trace\": \"\"}}, \"*\")"
      ],
      "text/plain": [
       "<IPython.core.display.Javascript object>"
      ]
     },
     "metadata": {},
     "output_type": "display_data"
    },
    {
     "data": {
      "text/markdown": [
       "<span style=\"color:#33cc33\">Correct</span>"
      ],
      "text/plain": [
       "Correct"
      ]
     },
     "metadata": {},
     "output_type": "display_data"
    }
   ],
   "source": [
    "countries = reviews.country.unique()\n",
    "\n",
    "# Check your answer\n",
    "q2.check()"
   ]
  },
  {
   "cell_type": "code",
   "execution_count": 5,
   "id": "0948bf1b",
   "metadata": {
    "execution": {
     "iopub.execute_input": "2023-07-13T09:44:47.375430Z",
     "iopub.status.busy": "2023-07-13T09:44:47.375026Z",
     "iopub.status.idle": "2023-07-13T09:44:47.379591Z",
     "shell.execute_reply": "2023-07-13T09:44:47.378583Z"
    },
    "papermill": {
     "duration": 0.014408,
     "end_time": "2023-07-13T09:44:47.381654",
     "exception": false,
     "start_time": "2023-07-13T09:44:47.367246",
     "status": "completed"
    },
    "tags": []
   },
   "outputs": [],
   "source": [
    "#q2.hint()\n",
    "#q2.solution()"
   ]
  },
  {
   "cell_type": "markdown",
   "id": "ee06c346",
   "metadata": {
    "papermill": {
     "duration": 0.006347,
     "end_time": "2023-07-13T09:44:47.394988",
     "exception": false,
     "start_time": "2023-07-13T09:44:47.388641",
     "status": "completed"
    },
    "tags": []
   },
   "source": [
    "## 3.\n",
    "How often does each country appear in the dataset? Create a Series `reviews_per_country` mapping countries to the count of reviews of wines from that country."
   ]
  },
  {
   "cell_type": "code",
   "execution_count": 6,
   "id": "d85a9dd0",
   "metadata": {
    "execution": {
     "iopub.execute_input": "2023-07-13T09:44:47.410246Z",
     "iopub.status.busy": "2023-07-13T09:44:47.409825Z",
     "iopub.status.idle": "2023-07-13T09:44:47.428055Z",
     "shell.execute_reply": "2023-07-13T09:44:47.427159Z"
    },
    "papermill": {
     "duration": 0.02855,
     "end_time": "2023-07-13T09:44:47.430253",
     "exception": false,
     "start_time": "2023-07-13T09:44:47.401703",
     "status": "completed"
    },
    "tags": []
   },
   "outputs": [
    {
     "data": {
      "application/javascript": [
       "parent.postMessage({\"jupyterEvent\": \"custom.exercise_interaction\", \"data\": {\"outcomeType\": 1, \"valueTowardsCompletion\": 0.14285714285714285, \"interactionType\": 1, \"questionType\": 1, \"questionId\": \"3_ReviewsPerCountry\", \"learnToolsVersion\": \"0.3.4\", \"failureMessage\": \"\", \"exceptionClass\": \"\", \"trace\": \"\"}}, \"*\")"
      ],
      "text/plain": [
       "<IPython.core.display.Javascript object>"
      ]
     },
     "metadata": {},
     "output_type": "display_data"
    },
    {
     "data": {
      "text/markdown": [
       "<span style=\"color:#33cc33\">Correct</span>"
      ],
      "text/plain": [
       "Correct"
      ]
     },
     "metadata": {},
     "output_type": "display_data"
    }
   ],
   "source": [
    "reviews_per_country = reviews.country.value_counts()\n",
    "\n",
    "# Check your answer\n",
    "q3.check()"
   ]
  },
  {
   "cell_type": "code",
   "execution_count": 7,
   "id": "17ec9e72",
   "metadata": {
    "execution": {
     "iopub.execute_input": "2023-07-13T09:44:47.446468Z",
     "iopub.status.busy": "2023-07-13T09:44:47.446089Z",
     "iopub.status.idle": "2023-07-13T09:44:47.449583Z",
     "shell.execute_reply": "2023-07-13T09:44:47.448810Z"
    },
    "papermill": {
     "duration": 0.014175,
     "end_time": "2023-07-13T09:44:47.451790",
     "exception": false,
     "start_time": "2023-07-13T09:44:47.437615",
     "status": "completed"
    },
    "tags": []
   },
   "outputs": [],
   "source": [
    "#q3.hint()\n",
    "#q3.solution()"
   ]
  },
  {
   "cell_type": "markdown",
   "id": "5e7f75bd",
   "metadata": {
    "papermill": {
     "duration": 0.006558,
     "end_time": "2023-07-13T09:44:47.465278",
     "exception": false,
     "start_time": "2023-07-13T09:44:47.458720",
     "status": "completed"
    },
    "tags": []
   },
   "source": [
    "## 4.\n",
    "Create variable `centered_price` containing a version of the `price` column with the mean price subtracted.\n",
    "\n",
    "(Note: this 'centering' transformation is a common preprocessing step before applying various machine learning algorithms.) "
   ]
  },
  {
   "cell_type": "code",
   "execution_count": 8,
   "id": "3a8ac078",
   "metadata": {
    "execution": {
     "iopub.execute_input": "2023-07-13T09:44:47.480679Z",
     "iopub.status.busy": "2023-07-13T09:44:47.480310Z",
     "iopub.status.idle": "2023-07-13T09:46:03.105189Z",
     "shell.execute_reply": "2023-07-13T09:46:03.103984Z"
    },
    "papermill": {
     "duration": 75.642325,
     "end_time": "2023-07-13T09:46:03.114507",
     "exception": false,
     "start_time": "2023-07-13T09:44:47.472182",
     "status": "completed"
    },
    "tags": []
   },
   "outputs": [
    {
     "data": {
      "application/javascript": [
       "parent.postMessage({\"jupyterEvent\": \"custom.exercise_interaction\", \"data\": {\"outcomeType\": 1, \"valueTowardsCompletion\": 0.14285714285714285, \"interactionType\": 1, \"questionType\": 1, \"questionId\": \"4_CenteredPrice\", \"learnToolsVersion\": \"0.3.4\", \"failureMessage\": \"\", \"exceptionClass\": \"\", \"trace\": \"\"}}, \"*\")"
      ],
      "text/plain": [
       "<IPython.core.display.Javascript object>"
      ]
     },
     "metadata": {},
     "output_type": "display_data"
    },
    {
     "data": {
      "text/markdown": [
       "<span style=\"color:#33cc33\">Correct</span>"
      ],
      "text/plain": [
       "Correct"
      ]
     },
     "metadata": {},
     "output_type": "display_data"
    }
   ],
   "source": [
    "centered_price = reviews.price.map(lambda p:p-reviews.price.mean())\n",
    "\n",
    "# Check your answer\n",
    "q4.check()"
   ]
  },
  {
   "cell_type": "code",
   "execution_count": 9,
   "id": "7a2172dc",
   "metadata": {
    "execution": {
     "iopub.execute_input": "2023-07-13T09:46:03.131012Z",
     "iopub.status.busy": "2023-07-13T09:46:03.130189Z",
     "iopub.status.idle": "2023-07-13T09:46:03.135360Z",
     "shell.execute_reply": "2023-07-13T09:46:03.134177Z"
    },
    "papermill": {
     "duration": 0.015985,
     "end_time": "2023-07-13T09:46:03.137668",
     "exception": false,
     "start_time": "2023-07-13T09:46:03.121683",
     "status": "completed"
    },
    "tags": []
   },
   "outputs": [],
   "source": [
    "#q4.hint()\n",
    "#q4.solution()"
   ]
  },
  {
   "cell_type": "markdown",
   "id": "f08b4eae",
   "metadata": {
    "papermill": {
     "duration": 0.00689,
     "end_time": "2023-07-13T09:46:03.151731",
     "exception": false,
     "start_time": "2023-07-13T09:46:03.144841",
     "status": "completed"
    },
    "tags": []
   },
   "source": [
    "## 5.\n",
    "I'm an economical wine buyer. Which wine is the \"best bargain\"? Create a variable `bargain_wine` with the title of the wine with the highest points-to-price ratio in the dataset."
   ]
  },
  {
   "cell_type": "code",
   "execution_count": 10,
   "id": "d8c6e454",
   "metadata": {
    "execution": {
     "iopub.execute_input": "2023-07-13T09:46:03.167678Z",
     "iopub.status.busy": "2023-07-13T09:46:03.167314Z",
     "iopub.status.idle": "2023-07-13T09:46:03.181918Z",
     "shell.execute_reply": "2023-07-13T09:46:03.180792Z"
    },
    "papermill": {
     "duration": 0.025239,
     "end_time": "2023-07-13T09:46:03.184050",
     "exception": false,
     "start_time": "2023-07-13T09:46:03.158811",
     "status": "completed"
    },
    "tags": []
   },
   "outputs": [
    {
     "data": {
      "application/javascript": [
       "parent.postMessage({\"jupyterEvent\": \"custom.exercise_interaction\", \"data\": {\"outcomeType\": 1, \"valueTowardsCompletion\": 0.14285714285714285, \"interactionType\": 1, \"questionType\": 2, \"questionId\": \"5_BargainWine\", \"learnToolsVersion\": \"0.3.4\", \"failureMessage\": \"\", \"exceptionClass\": \"\", \"trace\": \"\"}}, \"*\")"
      ],
      "text/plain": [
       "<IPython.core.display.Javascript object>"
      ]
     },
     "metadata": {},
     "output_type": "display_data"
    },
    {
     "data": {
      "text/markdown": [
       "<span style=\"color:#33cc33\">Correct</span>"
      ],
      "text/plain": [
       "Correct"
      ]
     },
     "metadata": {},
     "output_type": "display_data"
    }
   ],
   "source": [
    "bargain = (reviews.points / reviews.price).idxmax()\n",
    "bargain_wine = reviews.loc[bargain, 'title']\n",
    "# Check your answer\n",
    "q5.check()"
   ]
  },
  {
   "cell_type": "code",
   "execution_count": 11,
   "id": "f41cda49",
   "metadata": {
    "execution": {
     "iopub.execute_input": "2023-07-13T09:46:03.201105Z",
     "iopub.status.busy": "2023-07-13T09:46:03.200693Z",
     "iopub.status.idle": "2023-07-13T09:46:03.205421Z",
     "shell.execute_reply": "2023-07-13T09:46:03.204280Z"
    },
    "papermill": {
     "duration": 0.016392,
     "end_time": "2023-07-13T09:46:03.208158",
     "exception": false,
     "start_time": "2023-07-13T09:46:03.191766",
     "status": "completed"
    },
    "tags": []
   },
   "outputs": [],
   "source": [
    "#q5.hint()\n",
    "#q5.solution()"
   ]
  },
  {
   "cell_type": "markdown",
   "id": "f84bda1c",
   "metadata": {
    "papermill": {
     "duration": 0.007605,
     "end_time": "2023-07-13T09:46:03.223283",
     "exception": false,
     "start_time": "2023-07-13T09:46:03.215678",
     "status": "completed"
    },
    "tags": []
   },
   "source": [
    "## 6.\n",
    "There are only so many words you can use when describing a bottle of wine. Is a wine more likely to be \"tropical\" or \"fruity\"? Create a Series `descriptor_counts` counting how many times each of these two words appears in the `description` column in the dataset. (For simplicity, let's ignore the capitalized versions of these words.)"
   ]
  },
  {
   "cell_type": "code",
   "execution_count": 12,
   "id": "50a97e5e",
   "metadata": {
    "execution": {
     "iopub.execute_input": "2023-07-13T09:46:03.239793Z",
     "iopub.status.busy": "2023-07-13T09:46:03.239438Z",
     "iopub.status.idle": "2023-07-13T09:46:03.379379Z",
     "shell.execute_reply": "2023-07-13T09:46:03.378245Z"
    },
    "papermill": {
     "duration": 0.150869,
     "end_time": "2023-07-13T09:46:03.381547",
     "exception": false,
     "start_time": "2023-07-13T09:46:03.230678",
     "status": "completed"
    },
    "tags": []
   },
   "outputs": [
    {
     "data": {
      "application/javascript": [
       "parent.postMessage({\"jupyterEvent\": \"custom.exercise_interaction\", \"data\": {\"outcomeType\": 1, \"valueTowardsCompletion\": 0.14285714285714285, \"interactionType\": 1, \"questionType\": 1, \"questionId\": \"6_DescriptorCounts\", \"learnToolsVersion\": \"0.3.4\", \"failureMessage\": \"\", \"exceptionClass\": \"\", \"trace\": \"\"}}, \"*\")"
      ],
      "text/plain": [
       "<IPython.core.display.Javascript object>"
      ]
     },
     "metadata": {},
     "output_type": "display_data"
    },
    {
     "data": {
      "text/markdown": [
       "<span style=\"color:#33cc33\">Correct</span>"
      ],
      "text/plain": [
       "Correct"
      ]
     },
     "metadata": {},
     "output_type": "display_data"
    }
   ],
   "source": [
    "n_trop = reviews.description.map(lambda desc: \"tropical\" in desc).sum()\n",
    "n_fruity = reviews.description.map(lambda desc: \"fruity\" in desc).sum()\n",
    "descriptor_counts = pd.Series([n_trop, n_fruity], index=['tropical', 'fruity'])\n",
    "# Check your answer\n",
    "q6.check()"
   ]
  },
  {
   "cell_type": "code",
   "execution_count": 13,
   "id": "64cd2409",
   "metadata": {
    "execution": {
     "iopub.execute_input": "2023-07-13T09:46:03.398871Z",
     "iopub.status.busy": "2023-07-13T09:46:03.398509Z",
     "iopub.status.idle": "2023-07-13T09:46:03.402638Z",
     "shell.execute_reply": "2023-07-13T09:46:03.401556Z"
    },
    "papermill": {
     "duration": 0.015426,
     "end_time": "2023-07-13T09:46:03.404783",
     "exception": false,
     "start_time": "2023-07-13T09:46:03.389357",
     "status": "completed"
    },
    "tags": []
   },
   "outputs": [],
   "source": [
    "#q6.hint()\n",
    "#q6.solution()"
   ]
  },
  {
   "cell_type": "markdown",
   "id": "01276db5",
   "metadata": {
    "papermill": {
     "duration": 0.007168,
     "end_time": "2023-07-13T09:46:03.419417",
     "exception": false,
     "start_time": "2023-07-13T09:46:03.412249",
     "status": "completed"
    },
    "tags": []
   },
   "source": [
    "## 7.\n",
    "We'd like to host these wine reviews on our website, but a rating system ranging from 80 to 100 points is too hard to understand - we'd like to translate them into simple star ratings. A score of 95 or higher counts as 3 stars, a score of at least 85 but less than 95 is 2 stars. Any other score is 1 star.\n",
    "\n",
    "Also, the Canadian Vintners Association bought a lot of ads on the site, so any wines from Canada should automatically get 3 stars, regardless of points.\n",
    "\n",
    "Create a series `star_ratings` with the number of stars corresponding to each review in the dataset."
   ]
  },
  {
   "cell_type": "code",
   "execution_count": 14,
   "id": "e5807ee8",
   "metadata": {
    "execution": {
     "iopub.execute_input": "2023-07-13T09:46:03.436225Z",
     "iopub.status.busy": "2023-07-13T09:46:03.435793Z",
     "iopub.status.idle": "2023-07-13T09:46:06.856179Z",
     "shell.execute_reply": "2023-07-13T09:46:06.855026Z"
    },
    "papermill": {
     "duration": 3.43154,
     "end_time": "2023-07-13T09:46:06.858431",
     "exception": false,
     "start_time": "2023-07-13T09:46:03.426891",
     "status": "completed"
    },
    "tags": []
   },
   "outputs": [
    {
     "data": {
      "application/javascript": [
       "parent.postMessage({\"jupyterEvent\": \"custom.exercise_interaction\", \"data\": {\"outcomeType\": 1, \"valueTowardsCompletion\": 0.14285714285714285, \"interactionType\": 1, \"questionType\": 1, \"questionId\": \"7_StarRatings\", \"learnToolsVersion\": \"0.3.4\", \"failureMessage\": \"\", \"exceptionClass\": \"\", \"trace\": \"\"}}, \"*\")"
      ],
      "text/plain": [
       "<IPython.core.display.Javascript object>"
      ]
     },
     "metadata": {},
     "output_type": "display_data"
    },
    {
     "data": {
      "text/markdown": [
       "<span style=\"color:#33cc33\">Correct</span>"
      ],
      "text/plain": [
       "Correct"
      ]
     },
     "metadata": {},
     "output_type": "display_data"
    }
   ],
   "source": [
    "def stars(row):\n",
    "    if row.country == 'Canada':\n",
    "        return 3\n",
    "    elif row.points >= 95:\n",
    "        return 3\n",
    "    elif row.points >= 85:\n",
    "        return 2\n",
    "    else:\n",
    "        return 1\n",
    "\n",
    "star_ratings = reviews.apply(stars, axis='columns')\n",
    "# Check your answer\n",
    "q7.check()"
   ]
  },
  {
   "cell_type": "code",
   "execution_count": 15,
   "id": "a6af6aaa",
   "metadata": {
    "execution": {
     "iopub.execute_input": "2023-07-13T09:46:06.876051Z",
     "iopub.status.busy": "2023-07-13T09:46:06.875691Z",
     "iopub.status.idle": "2023-07-13T09:46:06.879998Z",
     "shell.execute_reply": "2023-07-13T09:46:06.878863Z"
    },
    "papermill": {
     "duration": 0.015841,
     "end_time": "2023-07-13T09:46:06.882154",
     "exception": false,
     "start_time": "2023-07-13T09:46:06.866313",
     "status": "completed"
    },
    "tags": []
   },
   "outputs": [],
   "source": [
    "#q7.hint()\n",
    "#q7.solution()"
   ]
  },
  {
   "cell_type": "markdown",
   "id": "59dedd2e",
   "metadata": {
    "papermill": {
     "duration": 0.007522,
     "end_time": "2023-07-13T09:46:06.897694",
     "exception": false,
     "start_time": "2023-07-13T09:46:06.890172",
     "status": "completed"
    },
    "tags": []
   },
   "source": [
    "# Keep going\n",
    "Continue to **[grouping and sorting](https://www.kaggle.com/residentmario/grouping-and-sorting)**."
   ]
  },
  {
   "cell_type": "markdown",
   "id": "3f40cfca",
   "metadata": {
    "papermill": {
     "duration": 0.007495,
     "end_time": "2023-07-13T09:46:06.913156",
     "exception": false,
     "start_time": "2023-07-13T09:46:06.905661",
     "status": "completed"
    },
    "tags": []
   },
   "source": [
    "---\n",
    "\n",
    "\n",
    "\n",
    "\n",
    "*Have questions or comments? Visit the [course discussion forum](https://www.kaggle.com/learn/pandas/discussion) to chat with other learners.*"
   ]
  }
 ],
 "metadata": {
  "kernelspec": {
   "display_name": "Python 3",
   "language": "python",
   "name": "python3"
  },
  "language_info": {
   "codemirror_mode": {
    "name": "ipython",
    "version": 3
   },
   "file_extension": ".py",
   "mimetype": "text/x-python",
   "name": "python",
   "nbconvert_exporter": "python",
   "pygments_lexer": "ipython3",
   "version": "3.10.12"
  },
  "papermill": {
   "default_parameters": {},
   "duration": 97.311093,
   "end_time": "2023-07-13T09:46:07.842674",
   "environment_variables": {},
   "exception": null,
   "input_path": "__notebook__.ipynb",
   "output_path": "__notebook__.ipynb",
   "parameters": {},
   "start_time": "2023-07-13T09:44:30.531581",
   "version": "2.4.0"
  }
 },
 "nbformat": 4,
 "nbformat_minor": 5
}
